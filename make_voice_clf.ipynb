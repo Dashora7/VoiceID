{
 "cells": [
  {
   "cell_type": "code",
   "execution_count": 79,
   "metadata": {},
   "outputs": [],
   "source": [
    "import os\n",
    "from resemblyzer import VoiceEncoder, preprocess_wav\n",
    "from pathlib import Path\n",
    "import numpy as np\n",
    "from sklearn.linear_model import Perceptron\n",
    "os.chdir('C:\\\\Users\\\\nrdas\\\\Downloads\\\\voiceID\\\\sounds')"
   ]
  },
  {
   "cell_type": "code",
   "execution_count": 80,
   "metadata": {},
   "outputs": [
    {
     "name": "stdout",
     "output_type": "stream",
     "text": [
      "Loaded the voice encoder model on cuda in 0.03 seconds.\n"
     ]
    }
   ],
   "source": [
    "embeds = []\n",
    "encoder = VoiceEncoder()\n",
    "\n",
    "for file in os.listdir('.'):\n",
    "    fpath = Path(os.getcwd() + '\\\\' + file)\n",
    "    wav = preprocess_wav(fpath)\n",
    "    embed = encoder.embed_utterance(wav)\n",
    "    embeds.append(embed)\n",
    "\n",
    "embeds2 = []\n",
    "os.chdir('C:\\\\Users\\\\nrdas\\\\Downloads\\\\voiceID\\\\sounds2')\n",
    "for file in os.listdir('.'):\n",
    "    fpath = Path(os.getcwd() + '\\\\' + file)\n",
    "    wav = preprocess_wav(fpath)\n",
    "    embed = encoder.embed_utterance(wav)\n",
    "    embeds2.append(embed)"
   ]
  },
  {
   "cell_type": "code",
   "execution_count": 81,
   "metadata": {},
   "outputs": [],
   "source": [
    "centroid = np.array(embeds).mean(axis=0)"
   ]
  },
  {
   "cell_type": "code",
   "execution_count": 82,
   "metadata": {},
   "outputs": [
    {
     "name": "stdout",
     "output_type": "stream",
     "text": [
      "[0.13099837 0.14663763 0.12172695 0.15981016]\n",
      "[0.9440274  0.9155336  1.0081232  0.9595805  0.98705345 0.92953247\n",
      " 0.9817801  0.7936811  0.9527204  0.9119596  1.0359293  0.94362473\n",
      " 0.88475746 0.9494143  1.0489963  1.0133032  1.0130223  0.97883284\n",
      " 1.0049113  1.055086   0.9518549  0.95211107 0.9721756  1.0488327\n",
      " 1.0015776  0.9071001  0.9924729  0.97595423 1.027457   0.9332843\n",
      " 0.71364933 0.88511777]\n"
     ]
    }
   ],
   "source": [
    "diff_dists = embeds2 - centroid\n",
    "sim_dists = embeds - centroid\n",
    "sim_dists_norm = np.linalg.norm(sim_dists, axis=1)\n",
    "diff_dists_norm = np.linalg.norm(diff_dists, axis=1)\n",
    "print(sim_dists_norm)\n",
    "print(diff_dists_norm)"
   ]
  },
  {
   "cell_type": "code",
   "execution_count": 84,
   "metadata": {},
   "outputs": [
    {
     "name": "stdout",
     "output_type": "stream",
     "text": [
      "[1]\n",
      "Hello Authorized User\n"
     ]
    }
   ],
   "source": [
    "labels = []\n",
    "for i in sim_dists:\n",
    "    labels.append(1)\n",
    "for i in diff_dists:\n",
    "    labels.append(0)\n",
    "\n",
    "tote = np.append(sim_dists_norm, diff_dists_norm).reshape(-1,1)\n",
    "clf2 = Perceptron().fit(tote, labels)\n",
    "\n",
    "test_norm = [[0.53]]\n",
    "prb  = clf2.predict(test_norm)\n",
    "print(prb)\n",
    "if prb[0] == 1:\n",
    "    print('Hello Authorized User')\n",
    "else:\n",
    "    print('You are not authorized to enter')"
   ]
  },
  {
   "cell_type": "code",
   "execution_count": null,
   "metadata": {},
   "outputs": [],
   "source": []
  }
 ],
 "metadata": {
  "kernelspec": {
   "display_name": "Python 3",
   "language": "python",
   "name": "python3"
  },
  "language_info": {
   "codemirror_mode": {
    "name": "ipython",
    "version": 3
   },
   "file_extension": ".py",
   "mimetype": "text/x-python",
   "name": "python",
   "nbconvert_exporter": "python",
   "pygments_lexer": "ipython3",
   "version": "3.6.10"
  }
 },
 "nbformat": 4,
 "nbformat_minor": 4
}
